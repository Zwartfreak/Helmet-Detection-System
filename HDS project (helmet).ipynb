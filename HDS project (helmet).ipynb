{
 "cells": [
  {
   "cell_type": "markdown",
   "metadata": {},
   "source": [
    "# Helmet detection"
   ]
  },
  {
   "cell_type": "markdown",
   "metadata": {},
   "source": [
    "**OpenCV-Python is a library of Python bindings designed to solve computer vision problems. \n",
    "All the OpenCV array structures are converted to and from Numpy arrays. \n",
    "This also makes it easier to integrate with other libraries that use Numpy such as SciPy and Matplotlib.**\n"
   ]
  },
  {
   "cell_type": "code",
   "execution_count": 1,
   "metadata": {},
   "outputs": [],
   "source": [
    "# IMPORT NECESSARY LIBRARIES\n",
    "\n",
    "import cv2 \n",
    "import numpy as np "
   ]
  },
  {
   "cell_type": "markdown",
   "metadata": {},
   "source": [
    "### Classifier"
   ]
  },
  {
   "cell_type": "code",
   "execution_count": 2,
   "metadata": {},
   "outputs": [],
   "source": [
    "#HELMET CLASSIFIER\n",
    "helmet_classifiers = cv2.CascadeClassifier(r'C:/Users/Shray/Anaconda3/Lib/site-packages/cv2/data/haarcascade_helmet.xml')"
   ]
  },
  {
   "cell_type": "markdown",
   "metadata": {},
   "source": [
    "#### In the below function, all the important part of the image is cropped and sent back as a result"
   ]
  },
  {
   "cell_type": "code",
   "execution_count": 4,
   "metadata": {},
   "outputs": [],
   "source": [
    "# FUNCTION \n",
    "\n",
    "def helmet_extract(img):\n",
    "    gray = cv2.cvtColor(img,cv2.COLOR_BGR2GRAY)\n",
    "    helmets = helmet_classifiers.detectMultiScale(gray,1.3,5)\n",
    "    \n",
    "    if helmets is():  # In case of empty tuple/frame received\n",
    "        return None\n",
    "    \n",
    "    for(x,y,w,h) in helmets:\n",
    "        cropped_helmet = img[y:y+w, x:x+h]\n",
    "        \n",
    "    return cropped_helmet"
   ]
  },
  {
   "cell_type": "code",
   "execution_count": null,
   "metadata": {},
   "outputs": [],
   "source": [
    "cap = cv2.VideoCapture(0)\n",
    "count = 0\n",
    "\n",
    "while True:\n",
    "    ret, frame = cap.read()\n",
    "    if helmet_extract(frame) is not None:\n",
    "        count+=1\n",
    "        helmet = cv2.resize(helmet_extract(frame),(200,200))\n",
    "        helmet = cv2.cvtColor(helmet, cv2.COLOR_BGR2GRAY)\n",
    "        \n",
    "        file_name_path = 'S:/Project Final Year/Detected images/Helmet detected images/helmet'+str(count)+'.jpg'\n",
    "        cv2.imwrite(file_name_path,helmet)\n",
    "        cv2.putText(helmet,str(count),(50,50),cv2.FONT_HERSHEY_COMPLEX,1,(0,255,0),2)\n",
    "        cv2.imshow('Helmet Croper',helmet)\n",
    "    else:\n",
    "        print('Helmet Not Detected')\n",
    "        pass\n",
    "     \n",
    "    if cv2.waitKey(1)==13 or count==50:\n",
    "        break\n",
    "        \n",
    "cap.release()\n",
    "cv2.destroyAllWindows()\n",
    "\n",
    "print('Collecting Samples Completed!!!!')\n",
    "    "
   ]
  },
  {
   "cell_type": "code",
   "execution_count": 6,
   "metadata": {},
   "outputs": [],
   "source": [
    "cap.release()\n",
    "cv2.destroyAllWindows()"
   ]
  },
  {
   "cell_type": "code",
   "execution_count": null,
   "metadata": {},
   "outputs": [],
   "source": []
  }
 ],
 "metadata": {
  "kernelspec": {
   "display_name": "Python 3",
   "language": "python",
   "name": "python3"
  },
  "language_info": {
   "codemirror_mode": {
    "name": "ipython",
    "version": 3
   },
   "file_extension": ".py",
   "mimetype": "text/x-python",
   "name": "python",
   "nbconvert_exporter": "python",
   "pygments_lexer": "ipython3",
   "version": "3.7.3"
  }
 },
 "nbformat": 4,
 "nbformat_minor": 2
}
